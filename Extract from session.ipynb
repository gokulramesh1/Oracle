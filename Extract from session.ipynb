{
 "cells": [
  {
   "cell_type": "code",
   "execution_count": 1,
   "metadata": {},
   "outputs": [],
   "source": [
    "import pandas as pd\n",
    "import json"
   ]
  },
  {
   "cell_type": "code",
   "execution_count": 2,
   "metadata": {},
   "outputs": [],
   "source": [
    "df = pd.read_csv(\"C:\\Dataframes\\Oracle\\dataframe.csv\")"
   ]
  },
  {
   "cell_type": "code",
   "execution_count": 3,
   "metadata": {},
   "outputs": [
    {
     "data": {
      "text/html": [
       "<div>\n",
       "<style scoped>\n",
       "    .dataframe tbody tr th:only-of-type {\n",
       "        vertical-align: middle;\n",
       "    }\n",
       "\n",
       "    .dataframe tbody tr th {\n",
       "        vertical-align: top;\n",
       "    }\n",
       "\n",
       "    .dataframe thead th {\n",
       "        text-align: right;\n",
       "    }\n",
       "</style>\n",
       "<table border=\"1\" class=\"dataframe\">\n",
       "  <thead>\n",
       "    <tr style=\"text-align: right;\">\n",
       "      <th></th>\n",
       "      <th>Unnamed: 0</th>\n",
       "      <th>Unnamed: 0.1</th>\n",
       "      <th>Unnamed: 0.1.1</th>\n",
       "      <th>key</th>\n",
       "      <th>session_id</th>\n",
       "      <th>session_data</th>\n",
       "      <th>theatre_id</th>\n",
       "      <th>screen_id</th>\n",
       "      <th>bo_data</th>\n",
       "      <th>theatre_data</th>\n",
       "      <th>movie_data</th>\n",
       "    </tr>\n",
       "  </thead>\n",
       "  <tbody>\n",
       "    <tr>\n",
       "      <th>0</th>\n",
       "      <td>0</td>\n",
       "      <td>0.0</td>\n",
       "      <td>0.0</td>\n",
       "      <td>000003df-3748-4494-ba11-6c1ae1630709.json</td>\n",
       "      <td>000003df-3748-4494-ba11-6c1ae1630709</td>\n",
       "      <td>{'layouts': [{'name': 'PREMIUM', 'table': [['P...</td>\n",
       "      <td>NaN</td>\n",
       "      <td>NaN</td>\n",
       "      <td>{'Seats': [{'ShowId': 'CPVD_4B63551D-2D2B-4EDA...</td>\n",
       "      <td>NaN</td>\n",
       "      <td>NaN</td>\n",
       "    </tr>\n",
       "    <tr>\n",
       "      <th>1</th>\n",
       "      <td>1</td>\n",
       "      <td>1.0</td>\n",
       "      <td>1.0</td>\n",
       "      <td>0000105a-9fa3-484b-9b1b-5e348f4dd80f</td>\n",
       "      <td>0000105a-9fa3-484b-9b1b-5e348f4dd80f</td>\n",
       "      <td>NaN</td>\n",
       "      <td>NaN</td>\n",
       "      <td>NaN</td>\n",
       "      <td>NaN</td>\n",
       "      <td>NaN</td>\n",
       "      <td>NaN</td>\n",
       "    </tr>\n",
       "    <tr>\n",
       "      <th>2</th>\n",
       "      <td>2</td>\n",
       "      <td>2.0</td>\n",
       "      <td>2.0</td>\n",
       "      <td>000014f4-0fe6-4b88-a256-62f884faf1c7</td>\n",
       "      <td>000014f4-0fe6-4b88-a256-62f884faf1c7</td>\n",
       "      <td>NaN</td>\n",
       "      <td>NaN</td>\n",
       "      <td>NaN</td>\n",
       "      <td>NaN</td>\n",
       "      <td>NaN</td>\n",
       "      <td>NaN</td>\n",
       "    </tr>\n",
       "  </tbody>\n",
       "</table>\n",
       "</div>"
      ],
      "text/plain": [
       "   Unnamed: 0  Unnamed: 0.1  Unnamed: 0.1.1  \\\n",
       "0           0           0.0             0.0   \n",
       "1           1           1.0             1.0   \n",
       "2           2           2.0             2.0   \n",
       "\n",
       "                                         key  \\\n",
       "0  000003df-3748-4494-ba11-6c1ae1630709.json   \n",
       "1       0000105a-9fa3-484b-9b1b-5e348f4dd80f   \n",
       "2       000014f4-0fe6-4b88-a256-62f884faf1c7   \n",
       "\n",
       "                             session_id  \\\n",
       "0  000003df-3748-4494-ba11-6c1ae1630709   \n",
       "1  0000105a-9fa3-484b-9b1b-5e348f4dd80f   \n",
       "2  000014f4-0fe6-4b88-a256-62f884faf1c7   \n",
       "\n",
       "                                        session_data  theatre_id  screen_id  \\\n",
       "0  {'layouts': [{'name': 'PREMIUM', 'table': [['P...         NaN        NaN   \n",
       "1                                                NaN         NaN        NaN   \n",
       "2                                                NaN         NaN        NaN   \n",
       "\n",
       "                                             bo_data  theatre_data  movie_data  \n",
       "0  {'Seats': [{'ShowId': 'CPVD_4B63551D-2D2B-4EDA...           NaN         NaN  \n",
       "1                                                NaN           NaN         NaN  \n",
       "2                                                NaN           NaN         NaN  "
      ]
     },
     "execution_count": 3,
     "metadata": {},
     "output_type": "execute_result"
    }
   ],
   "source": [
    "df"
   ]
  },
  {
   "cell_type": "code",
   "execution_count": 4,
   "metadata": {},
   "outputs": [
    {
     "data": {
      "text/plain": [
       "str"
      ]
     },
     "execution_count": 4,
     "metadata": {},
     "output_type": "execute_result"
    }
   ],
   "source": [
    "type(df['session_data'][0])"
   ]
  },
  {
   "cell_type": "code",
   "execution_count": 5,
   "metadata": {},
   "outputs": [],
   "source": [
    "j = df['session_data'][0].replace(\"'\", '\"').replace('None','null').replace('False', 'false').replace('True','true')"
   ]
  },
  {
   "cell_type": "code",
   "execution_count": 6,
   "metadata": {},
   "outputs": [],
   "source": [
    "json_data = json.loads(j)"
   ]
  },
  {
   "cell_type": "code",
   "execution_count": 7,
   "metadata": {},
   "outputs": [
    {
     "data": {
      "text/plain": [
       "dict"
      ]
     },
     "execution_count": 7,
     "metadata": {},
     "output_type": "execute_result"
    }
   ],
   "source": [
    "type(json_data)"
   ]
  },
  {
   "cell_type": "code",
   "execution_count": 8,
   "metadata": {},
   "outputs": [
    {
     "data": {
      "text/plain": [
       "'000003df-3748-4494-ba11-6c1ae1630709'"
      ]
     },
     "execution_count": 8,
     "metadata": {},
     "output_type": "execute_result"
    }
   ],
   "source": [
    "json_data['session']['id']"
   ]
  },
  {
   "cell_type": "code",
   "execution_count": 9,
   "metadata": {},
   "outputs": [
    {
     "data": {
      "text/plain": [
       "'27cc29e4-17d9-46ab-b7e1-750ddde34e6d'"
      ]
     },
     "execution_count": 9,
     "metadata": {},
     "output_type": "execute_result"
    }
   ],
   "source": [
    "json_data['session']['theatre_id']"
   ]
  },
  {
   "cell_type": "code",
   "execution_count": null,
   "metadata": {},
   "outputs": [],
   "source": []
  }
 ],
 "metadata": {
  "kernelspec": {
   "display_name": "Python 3",
   "language": "python",
   "name": "python3"
  },
  "language_info": {
   "codemirror_mode": {
    "name": "ipython",
    "version": 3
   },
   "file_extension": ".py",
   "mimetype": "text/x-python",
   "name": "python",
   "nbconvert_exporter": "python",
   "pygments_lexer": "ipython3",
   "version": "3.7.3"
  }
 },
 "nbformat": 4,
 "nbformat_minor": 2
}
