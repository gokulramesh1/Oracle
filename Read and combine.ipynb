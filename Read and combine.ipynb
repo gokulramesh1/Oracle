{
 "cells": [
  {
   "cell_type": "code",
   "execution_count": 1,
   "metadata": {},
   "outputs": [],
   "source": [
    "import pandas as pd\n",
    "import glob"
   ]
  },
  {
   "cell_type": "code",
   "execution_count": 2,
   "metadata": {
    "scrolled": true
   },
   "outputs": [],
   "source": [
    "path = \"C:\\\\Dataframes\\\\Oracle\\\\files\" # your path with double backslashes \n",
    "all_files = glob.glob(path + \"/*.csv\")\n",
    "\n",
    "li = [pd.read_csv(filename, index_col=None, header=0) for filename in all_files]\n",
    "\n",
    "df = pd.concat(li, axis=0, ignore_index=True)"
   ]
  },
  {
   "cell_type": "code",
   "execution_count": 3,
   "metadata": {},
   "outputs": [
    {
     "data": {
      "text/plain": [
       "683"
      ]
     },
     "execution_count": 3,
     "metadata": {},
     "output_type": "execute_result"
    }
   ],
   "source": [
    "# no. of csvs\n",
    "len(li) "
   ]
  },
  {
   "cell_type": "code",
   "execution_count": 4,
   "metadata": {},
   "outputs": [
    {
     "data": {
      "text/plain": [
       "(229748, 32)"
      ]
     },
     "execution_count": 4,
     "metadata": {},
     "output_type": "execute_result"
    }
   ],
   "source": [
    "# no. of sessions\n",
    "df.shape "
   ]
  },
  {
   "cell_type": "code",
   "execution_count": 6,
   "metadata": {},
   "outputs": [
    {
     "data": {
      "text/html": [
       "<div>\n",
       "<style scoped>\n",
       "    .dataframe tbody tr th:only-of-type {\n",
       "        vertical-align: middle;\n",
       "    }\n",
       "\n",
       "    .dataframe tbody tr th {\n",
       "        vertical-align: top;\n",
       "    }\n",
       "\n",
       "    .dataframe thead th {\n",
       "        text-align: right;\n",
       "    }\n",
       "</style>\n",
       "<table border=\"1\" class=\"dataframe\">\n",
       "  <thead>\n",
       "    <tr style=\"text-align: right;\">\n",
       "      <th></th>\n",
       "      <th>session_id</th>\n",
       "      <th>date</th>\n",
       "      <th>time</th>\n",
       "      <th>screen_id</th>\n",
       "      <th>theatre_id</th>\n",
       "      <th>movie_id</th>\n",
       "      <th>facility_type</th>\n",
       "      <th>facility_location_type</th>\n",
       "      <th>latitude</th>\n",
       "      <th>longitude</th>\n",
       "      <th>...</th>\n",
       "      <th>featured</th>\n",
       "      <th>run_time</th>\n",
       "      <th>genres</th>\n",
       "      <th>actress</th>\n",
       "      <th>actor</th>\n",
       "      <th>director</th>\n",
       "      <th>music_director</th>\n",
       "      <th>music_label</th>\n",
       "      <th>release_type</th>\n",
       "      <th>sold_seats</th>\n",
       "    </tr>\n",
       "  </thead>\n",
       "  <tbody>\n",
       "    <tr>\n",
       "      <th>0</th>\n",
       "      <td>05e0acf7-8ac5-40f4-8cef-3b5eaed14a9a</td>\n",
       "      <td>2016-11-05</td>\n",
       "      <td>2016-11-05T21:30:00.000+05:30</td>\n",
       "      <td>c0287c52-c993-4cc6-9225-86eb16579b80</td>\n",
       "      <td>01668bc7-8262-4b03-88ff-4170a8811995</td>\n",
       "      <td>366e57ab-1d26-4127-b687-8cc91feb2d04</td>\n",
       "      <td>Complex</td>\n",
       "      <td>Standalone</td>\n",
       "      <td>18.410869</td>\n",
       "      <td>84.037351</td>\n",
       "      <td>...</td>\n",
       "      <td>False</td>\n",
       "      <td>9120</td>\n",
       "      <td>['Action', 'Romance']</td>\n",
       "      <td>['Nitya Naresh', 'Shravya']</td>\n",
       "      <td>['Naveen Krishna']</td>\n",
       "      <td>['PV Giri']</td>\n",
       "      <td>['Achu Rajamani', 'Shekhar Chandra']</td>\n",
       "      <td>['Mango Music']</td>\n",
       "      <td>Wide Release</td>\n",
       "      <td>0</td>\n",
       "    </tr>\n",
       "    <tr>\n",
       "      <th>1</th>\n",
       "      <td>00e2d26a-0186-4d5b-82df-21f894aa50db</td>\n",
       "      <td>2016-11-09</td>\n",
       "      <td>2016-11-09T21:30:00.000+05:30</td>\n",
       "      <td>c0287c52-c993-4cc6-9225-86eb16579b80</td>\n",
       "      <td>01668bc7-8262-4b03-88ff-4170a8811995</td>\n",
       "      <td>366e57ab-1d26-4127-b687-8cc91feb2d04</td>\n",
       "      <td>Complex</td>\n",
       "      <td>Standalone</td>\n",
       "      <td>18.410869</td>\n",
       "      <td>84.037351</td>\n",
       "      <td>...</td>\n",
       "      <td>False</td>\n",
       "      <td>9120</td>\n",
       "      <td>['Action', 'Romance']</td>\n",
       "      <td>['Nitya Naresh', 'Shravya']</td>\n",
       "      <td>['Naveen Krishna']</td>\n",
       "      <td>['PV Giri']</td>\n",
       "      <td>['Achu Rajamani', 'Shekhar Chandra']</td>\n",
       "      <td>['Mango Music']</td>\n",
       "      <td>Wide Release</td>\n",
       "      <td>0</td>\n",
       "    </tr>\n",
       "    <tr>\n",
       "      <th>2</th>\n",
       "      <td>00e2d26a-0186-4d5b-82df-21f894aa50db</td>\n",
       "      <td>2016-11-09</td>\n",
       "      <td>2016-11-09T21:30:00.000+05:30</td>\n",
       "      <td>c0287c52-c993-4cc6-9225-86eb16579b80</td>\n",
       "      <td>01668bc7-8262-4b03-88ff-4170a8811995</td>\n",
       "      <td>366e57ab-1d26-4127-b687-8cc91feb2d04</td>\n",
       "      <td>Complex</td>\n",
       "      <td>Standalone</td>\n",
       "      <td>18.410869</td>\n",
       "      <td>84.037351</td>\n",
       "      <td>...</td>\n",
       "      <td>False</td>\n",
       "      <td>9120</td>\n",
       "      <td>['Action', 'Romance']</td>\n",
       "      <td>['Nitya Naresh', 'Shravya']</td>\n",
       "      <td>['Naveen Krishna']</td>\n",
       "      <td>['PV Giri']</td>\n",
       "      <td>['Achu Rajamani', 'Shekhar Chandra']</td>\n",
       "      <td>['Mango Music']</td>\n",
       "      <td>Wide Release</td>\n",
       "      <td>0</td>\n",
       "    </tr>\n",
       "  </tbody>\n",
       "</table>\n",
       "<p>3 rows × 32 columns</p>\n",
       "</div>"
      ],
      "text/plain": [
       "                             session_id        date  \\\n",
       "0  05e0acf7-8ac5-40f4-8cef-3b5eaed14a9a  2016-11-05   \n",
       "1  00e2d26a-0186-4d5b-82df-21f894aa50db  2016-11-09   \n",
       "2  00e2d26a-0186-4d5b-82df-21f894aa50db  2016-11-09   \n",
       "\n",
       "                            time                             screen_id  \\\n",
       "0  2016-11-05T21:30:00.000+05:30  c0287c52-c993-4cc6-9225-86eb16579b80   \n",
       "1  2016-11-09T21:30:00.000+05:30  c0287c52-c993-4cc6-9225-86eb16579b80   \n",
       "2  2016-11-09T21:30:00.000+05:30  c0287c52-c993-4cc6-9225-86eb16579b80   \n",
       "\n",
       "                             theatre_id                              movie_id  \\\n",
       "0  01668bc7-8262-4b03-88ff-4170a8811995  366e57ab-1d26-4127-b687-8cc91feb2d04   \n",
       "1  01668bc7-8262-4b03-88ff-4170a8811995  366e57ab-1d26-4127-b687-8cc91feb2d04   \n",
       "2  01668bc7-8262-4b03-88ff-4170a8811995  366e57ab-1d26-4127-b687-8cc91feb2d04   \n",
       "\n",
       "  facility_type facility_location_type   latitude  longitude  ... featured  \\\n",
       "0       Complex             Standalone  18.410869  84.037351  ...    False   \n",
       "1       Complex             Standalone  18.410869  84.037351  ...    False   \n",
       "2       Complex             Standalone  18.410869  84.037351  ...    False   \n",
       "\n",
       "  run_time                 genres                      actress  \\\n",
       "0     9120  ['Action', 'Romance']  ['Nitya Naresh', 'Shravya']   \n",
       "1     9120  ['Action', 'Romance']  ['Nitya Naresh', 'Shravya']   \n",
       "2     9120  ['Action', 'Romance']  ['Nitya Naresh', 'Shravya']   \n",
       "\n",
       "                actor     director                        music_director  \\\n",
       "0  ['Naveen Krishna']  ['PV Giri']  ['Achu Rajamani', 'Shekhar Chandra']   \n",
       "1  ['Naveen Krishna']  ['PV Giri']  ['Achu Rajamani', 'Shekhar Chandra']   \n",
       "2  ['Naveen Krishna']  ['PV Giri']  ['Achu Rajamani', 'Shekhar Chandra']   \n",
       "\n",
       "       music_label  release_type sold_seats  \n",
       "0  ['Mango Music']  Wide Release          0  \n",
       "1  ['Mango Music']  Wide Release          0  \n",
       "2  ['Mango Music']  Wide Release          0  \n",
       "\n",
       "[3 rows x 32 columns]"
      ]
     },
     "execution_count": 6,
     "metadata": {},
     "output_type": "execute_result"
    }
   ],
   "source": [
    "df.head(3)"
   ]
  },
  {
   "cell_type": "code",
   "execution_count": 7,
   "metadata": {},
   "outputs": [
    {
     "data": {
      "text/plain": [
       "697"
      ]
     },
     "execution_count": 7,
     "metadata": {},
     "output_type": "execute_result"
    }
   ],
   "source": [
    "# no. of duplicates\n",
    "len(df[df.duplicated(['session_id'])]) "
   ]
  },
  {
   "cell_type": "code",
   "execution_count": 8,
   "metadata": {},
   "outputs": [
    {
     "data": {
      "text/plain": [
       "session_id                    0\n",
       "date                          0\n",
       "time                          0\n",
       "screen_id                     0\n",
       "theatre_id                    0\n",
       "movie_id                      0\n",
       "facility_type               404\n",
       "facility_location_type      404\n",
       "latitude                    404\n",
       "longitude                   404\n",
       "area                      69042\n",
       "city                        404\n",
       "province                    404\n",
       "postal_code                 404\n",
       "total_seats                3503\n",
       "cooling_type              33929\n",
       "projection_type             404\n",
       "sound_mixes                 404\n",
       "country                     404\n",
       "release_date                172\n",
       "certificate               16823\n",
       "language                      0\n",
       "featured                      0\n",
       "run_time                      0\n",
       "genres                        0\n",
       "actress                       0\n",
       "actor                         0\n",
       "director                      0\n",
       "music_director                0\n",
       "music_label                   0\n",
       "release_type               1169\n",
       "sold_seats                    0\n",
       "dtype: int64"
      ]
     },
     "execution_count": 8,
     "metadata": {},
     "output_type": "execute_result"
    }
   ],
   "source": [
    "# nulls\n",
    "df.isna().sum()"
   ]
  },
  {
   "cell_type": "code",
   "execution_count": null,
   "metadata": {},
   "outputs": [],
   "source": []
  }
 ],
 "metadata": {
  "kernelspec": {
   "display_name": "Python 3",
   "language": "python",
   "name": "python3"
  },
  "language_info": {
   "codemirror_mode": {
    "name": "ipython",
    "version": 3
   },
   "file_extension": ".py",
   "mimetype": "text/x-python",
   "name": "python",
   "nbconvert_exporter": "python",
   "pygments_lexer": "ipython3",
   "version": "3.7.3"
  }
 },
 "nbformat": 4,
 "nbformat_minor": 2
}
