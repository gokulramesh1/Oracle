{
 "cells": [
  {
   "cell_type": "code",
   "execution_count": 1,
   "metadata": {},
   "outputs": [],
   "source": [
    "import pandas as pd\n",
    "import numpy as np\n",
    "import glob"
   ]
  },
  {
   "cell_type": "code",
   "execution_count": 2,
   "metadata": {
    "scrolled": true
   },
   "outputs": [],
   "source": [
    "path = \"C:\\\\Dataframes\\\\Oracle\\\\files\" # your path with double backslashes \n",
    "all_files = glob.glob(path + \"/*.csv\")\n",
    "\n",
    "li = [pd.read_csv(filename, index_col=None, header=0) for filename in all_files]\n",
    "\n",
    "df = pd.concat(li, axis=0, ignore_index=True)"
   ]
  },
  {
   "cell_type": "code",
   "execution_count": 5,
   "metadata": {},
   "outputs": [
    {
     "data": {
      "text/plain": [
       "(1508507, 32)"
      ]
     },
     "execution_count": 5,
     "metadata": {},
     "output_type": "execute_result"
    }
   ],
   "source": [
    "df.shape"
   ]
  },
  {
   "cell_type": "code",
   "execution_count": 4,
   "metadata": {},
   "outputs": [
    {
     "data": {
      "text/html": [
       "<div>\n",
       "<style scoped>\n",
       "    .dataframe tbody tr th:only-of-type {\n",
       "        vertical-align: middle;\n",
       "    }\n",
       "\n",
       "    .dataframe tbody tr th {\n",
       "        vertical-align: top;\n",
       "    }\n",
       "\n",
       "    .dataframe thead th {\n",
       "        text-align: right;\n",
       "    }\n",
       "</style>\n",
       "<table border=\"1\" class=\"dataframe\">\n",
       "  <thead>\n",
       "    <tr style=\"text-align: right;\">\n",
       "      <th></th>\n",
       "      <th>session_id</th>\n",
       "      <th>date</th>\n",
       "      <th>time</th>\n",
       "      <th>screen_id</th>\n",
       "      <th>theatre_id</th>\n",
       "      <th>movie_id</th>\n",
       "      <th>facility_type</th>\n",
       "      <th>facility_location_type</th>\n",
       "      <th>latitude</th>\n",
       "      <th>longitude</th>\n",
       "      <th>...</th>\n",
       "      <th>featured</th>\n",
       "      <th>run_time</th>\n",
       "      <th>genres</th>\n",
       "      <th>actress</th>\n",
       "      <th>actor</th>\n",
       "      <th>director</th>\n",
       "      <th>music_director</th>\n",
       "      <th>music_label</th>\n",
       "      <th>release_type</th>\n",
       "      <th>sold_seats</th>\n",
       "    </tr>\n",
       "  </thead>\n",
       "  <tbody>\n",
       "    <tr>\n",
       "      <th>0</th>\n",
       "      <td>4dc73062-49da-4956-a4ea-4ae6e6d129f5</td>\n",
       "      <td>2016-11-03</td>\n",
       "      <td>2016-11-03T18:30:00.000+05:30</td>\n",
       "      <td>c0287c52-c993-4cc6-9225-86eb16579b80</td>\n",
       "      <td>01668bc7-8262-4b03-88ff-4170a8811995</td>\n",
       "      <td>34324eda-2253-4ba9-bf19-9a7385f16e34</td>\n",
       "      <td>Complex</td>\n",
       "      <td>Standalone</td>\n",
       "      <td>18.410869</td>\n",
       "      <td>84.037351</td>\n",
       "      <td>...</td>\n",
       "      <td>False</td>\n",
       "      <td>7920</td>\n",
       "      <td>['Action', 'Drama']</td>\n",
       "      <td>['Aditi Arya']</td>\n",
       "      <td>['Nandamuri Kalyan Ram']</td>\n",
       "      <td>['Puri Jagannadh']</td>\n",
       "      <td>['Anoop Rubens']</td>\n",
       "      <td>['Aditya Music']</td>\n",
       "      <td>Wide Release</td>\n",
       "      <td>0</td>\n",
       "    </tr>\n",
       "    <tr>\n",
       "      <th>1</th>\n",
       "      <td>d84ada4e-92e8-4efc-960b-bdde55185595</td>\n",
       "      <td>2016-11-03</td>\n",
       "      <td>2016-11-03T14:30:00.000+05:30</td>\n",
       "      <td>c0287c52-c993-4cc6-9225-86eb16579b80</td>\n",
       "      <td>01668bc7-8262-4b03-88ff-4170a8811995</td>\n",
       "      <td>34324eda-2253-4ba9-bf19-9a7385f16e34</td>\n",
       "      <td>Complex</td>\n",
       "      <td>Standalone</td>\n",
       "      <td>18.410869</td>\n",
       "      <td>84.037351</td>\n",
       "      <td>...</td>\n",
       "      <td>False</td>\n",
       "      <td>7920</td>\n",
       "      <td>['Action', 'Drama']</td>\n",
       "      <td>['Aditi Arya']</td>\n",
       "      <td>['Nandamuri Kalyan Ram']</td>\n",
       "      <td>['Puri Jagannadh']</td>\n",
       "      <td>['Anoop Rubens']</td>\n",
       "      <td>['Aditya Music']</td>\n",
       "      <td>Wide Release</td>\n",
       "      <td>0</td>\n",
       "    </tr>\n",
       "    <tr>\n",
       "      <th>2</th>\n",
       "      <td>ea7cd215-93de-424a-8540-6235cf898c77</td>\n",
       "      <td>2016-11-03</td>\n",
       "      <td>2016-11-03T21:30:00.000+05:30</td>\n",
       "      <td>c0287c52-c993-4cc6-9225-86eb16579b80</td>\n",
       "      <td>01668bc7-8262-4b03-88ff-4170a8811995</td>\n",
       "      <td>34324eda-2253-4ba9-bf19-9a7385f16e34</td>\n",
       "      <td>Complex</td>\n",
       "      <td>Standalone</td>\n",
       "      <td>18.410869</td>\n",
       "      <td>84.037351</td>\n",
       "      <td>...</td>\n",
       "      <td>False</td>\n",
       "      <td>7920</td>\n",
       "      <td>['Action', 'Drama']</td>\n",
       "      <td>['Aditi Arya']</td>\n",
       "      <td>['Nandamuri Kalyan Ram']</td>\n",
       "      <td>['Puri Jagannadh']</td>\n",
       "      <td>['Anoop Rubens']</td>\n",
       "      <td>['Aditya Music']</td>\n",
       "      <td>Wide Release</td>\n",
       "      <td>0</td>\n",
       "    </tr>\n",
       "  </tbody>\n",
       "</table>\n",
       "<p>3 rows × 32 columns</p>\n",
       "</div>"
      ],
      "text/plain": [
       "                             session_id        date  \\\n",
       "0  4dc73062-49da-4956-a4ea-4ae6e6d129f5  2016-11-03   \n",
       "1  d84ada4e-92e8-4efc-960b-bdde55185595  2016-11-03   \n",
       "2  ea7cd215-93de-424a-8540-6235cf898c77  2016-11-03   \n",
       "\n",
       "                            time                             screen_id  \\\n",
       "0  2016-11-03T18:30:00.000+05:30  c0287c52-c993-4cc6-9225-86eb16579b80   \n",
       "1  2016-11-03T14:30:00.000+05:30  c0287c52-c993-4cc6-9225-86eb16579b80   \n",
       "2  2016-11-03T21:30:00.000+05:30  c0287c52-c993-4cc6-9225-86eb16579b80   \n",
       "\n",
       "                             theatre_id                              movie_id  \\\n",
       "0  01668bc7-8262-4b03-88ff-4170a8811995  34324eda-2253-4ba9-bf19-9a7385f16e34   \n",
       "1  01668bc7-8262-4b03-88ff-4170a8811995  34324eda-2253-4ba9-bf19-9a7385f16e34   \n",
       "2  01668bc7-8262-4b03-88ff-4170a8811995  34324eda-2253-4ba9-bf19-9a7385f16e34   \n",
       "\n",
       "  facility_type facility_location_type   latitude  longitude  ... featured  \\\n",
       "0       Complex             Standalone  18.410869  84.037351  ...    False   \n",
       "1       Complex             Standalone  18.410869  84.037351  ...    False   \n",
       "2       Complex             Standalone  18.410869  84.037351  ...    False   \n",
       "\n",
       "  run_time               genres         actress                     actor  \\\n",
       "0     7920  ['Action', 'Drama']  ['Aditi Arya']  ['Nandamuri Kalyan Ram']   \n",
       "1     7920  ['Action', 'Drama']  ['Aditi Arya']  ['Nandamuri Kalyan Ram']   \n",
       "2     7920  ['Action', 'Drama']  ['Aditi Arya']  ['Nandamuri Kalyan Ram']   \n",
       "\n",
       "             director    music_director       music_label  release_type  \\\n",
       "0  ['Puri Jagannadh']  ['Anoop Rubens']  ['Aditya Music']  Wide Release   \n",
       "1  ['Puri Jagannadh']  ['Anoop Rubens']  ['Aditya Music']  Wide Release   \n",
       "2  ['Puri Jagannadh']  ['Anoop Rubens']  ['Aditya Music']  Wide Release   \n",
       "\n",
       "  sold_seats  \n",
       "0          0  \n",
       "1          0  \n",
       "2          0  \n",
       "\n",
       "[3 rows x 32 columns]"
      ]
     },
     "execution_count": 4,
     "metadata": {},
     "output_type": "execute_result"
    }
   ],
   "source": [
    "df.head(3)"
   ]
  },
  {
   "cell_type": "code",
   "execution_count": 5,
   "metadata": {},
   "outputs": [],
   "source": [
    "to_drop = ['session_id', 'latitude', 'longitude', 'area', 'cooling_type', 'featured', 'release_type']\n",
    "for col in to_drop:\n",
    "    df.drop(col, axis=1, inplace=True)"
   ]
  },
  {
   "cell_type": "code",
   "execution_count": 9,
   "metadata": {},
   "outputs": [],
   "source": [
    "def get(people):\n",
    "    return people.strip('[').strip(']').replace(\"'\", \"\")\n",
    "\n",
    "for col in df.columns[18:24]:\n",
    "    df[col] = df[col].apply(get)"
   ]
  },
  {
   "cell_type": "code",
   "execution_count": 10,
   "metadata": {},
   "outputs": [],
   "source": [
    "from datetime import date\n",
    "\n",
    "df.drop('date',axis=1,inplace=True)\n",
    "\n",
    "def weekend(dt):\n",
    "    ymd = dt.split('T')[0].split('-')\n",
    "    y, m, d = ymd[0], ymd[1].lstrip('0'), ymd[2].lstrip('0')\n",
    "    y, m, d = int(y), int(m), int(d)\n",
    "    if date(y, m, d).weekday() > 3:\n",
    "        return 1\n",
    "    else:\n",
    "        return 0\n",
    "\n",
    "df['weekend'] = df['time'].apply(weekend)"
   ]
  },
  {
   "cell_type": "code",
   "execution_count": 11,
   "metadata": {},
   "outputs": [],
   "source": [
    "def time_of_day(time):\n",
    "    hour = time.split('T')[1][:2]\n",
    "    if hour[0] == '0':\n",
    "        hour = int(hour[1])\n",
    "    else:\n",
    "        hour = int(hour)\n",
    "    \n",
    "    if hour < 13:\n",
    "        return 'Morning'\n",
    "    elif hour < 17:\n",
    "        return 'Afternoon'\n",
    "    elif hour < 20:\n",
    "        return 'Evening'\n",
    "    elif hour <= 23:\n",
    "        return 'Night'\n",
    "\n",
    "df['time_of_day'] = df['time'].apply(time_of_day)"
   ]
  },
  {
   "cell_type": "code",
   "execution_count": 18,
   "metadata": {},
   "outputs": [],
   "source": [
    "df['certificate'] = df['certificate'].apply(lambda x: 'U/A' if pd.isna(x) else x)\n",
    "\n",
    "df['total_seats'] = df['total_seats'].apply(int)\n",
    "\n",
    "df = df[np.isfinite(df['total_seats'])]\n",
    "df = df[pd.notnull(df['release_date'])]"
   ]
  },
  {
   "cell_type": "code",
   "execution_count": null,
   "metadata": {},
   "outputs": [],
   "source": [
    "df = df.reset_index(drop=True)"
   ]
  },
  {
   "cell_type": "code",
   "execution_count": null,
   "metadata": {},
   "outputs": [],
   "source": [
    "import datetime\n",
    "\n",
    "df['show_date'] = df['time'].apply(lambda x: x.split('T')[0])\n",
    "\n",
    "def get_date(d):\n",
    "    ymd = d.split('-')\n",
    "    y, m, d = ymd[0], ymd[1].lstrip('0'), ymd[2].lstrip('0')\n",
    "    y, m, d = int(y), int(m), int(d)\n",
    "    return date(y, m, d)\n",
    "\n",
    "df['show_date'] = df['show_date'].apply(get_date)\n",
    "df['release_date'] = df['release_date'].apply(get_date)\n",
    "\n",
    "df['since_release'] = [(df['show_date'][i] - df['release_date'][i]).days for i in range(len(df))]"
   ]
  },
  {
   "cell_type": "code",
   "execution_count": 116,
   "metadata": {},
   "outputs": [
    {
     "data": {
      "text/plain": [
       "Index(['time', 'screen_id', 'theatre_id', 'movie_id', 'facility_type',\n",
       "       'facility_location_type', 'city', 'province', 'postal_code',\n",
       "       'total_seats', 'projection_type', 'sound_mixes', 'country',\n",
       "       'release_date', 'certificate', 'language', 'run_time', 'genres',\n",
       "       'actress', 'actor', 'director', 'music_director', 'music_label',\n",
       "       'sold_seats', 'weekend', 'time_of_day', 'show_date', 'since_release'],\n",
       "      dtype='object')"
      ]
     },
     "execution_count": 116,
     "metadata": {},
     "output_type": "execute_result"
    }
   ],
   "source": [
    "df.columns"
   ]
  },
  {
   "cell_type": "code",
   "execution_count": 121,
   "metadata": {},
   "outputs": [
    {
     "name": "stdout",
     "output_type": "stream",
     "text": [
      "time: 105407\n",
      "screen_id: 760\n",
      "theatre_id: 412\n",
      "movie_id: 2795\n",
      "facility_type: 3\n",
      "facility_location_type: 2\n",
      "city: 243\n",
      "province: 22\n",
      "postal_code: 330\n",
      "total_seats: 309\n",
      "projection_type: 4\n",
      "sound_mixes: 30\n",
      "country: 1\n",
      "release_date: 488\n",
      "certificate: 3\n",
      "language: 22\n",
      "run_time: 118\n",
      "genres: 249\n",
      "actress: 1777\n",
      "actor: 1901\n",
      "director: 2175\n",
      "music_director: 1574\n",
      "music_label: 459\n",
      "sold_seats: 984\n",
      "weekend: 2\n",
      "time_of_day: 4\n",
      "show_date: 724\n",
      "since_release: 2156\n"
     ]
    }
   ],
   "source": [
    "for feature in df.columns:\n",
    "    print(feature + ': ' + str(len(df[feature].unique())))"
   ]
  },
  {
   "cell_type": "code",
   "execution_count": null,
   "metadata": {},
   "outputs": [],
   "source": [
    "# screen, theatre, movie, facility_type, genre, stars, weekend, time_of_day"
   ]
  },
  {
   "cell_type": "code",
   "execution_count": null,
   "metadata": {},
   "outputs": [],
   "source": []
  },
  {
   "cell_type": "code",
   "execution_count": null,
   "metadata": {},
   "outputs": [],
   "source": []
  },
  {
   "cell_type": "code",
   "execution_count": null,
   "metadata": {},
   "outputs": [],
   "source": []
  },
  {
   "cell_type": "code",
   "execution_count": null,
   "metadata": {},
   "outputs": [],
   "source": []
  },
  {
   "cell_type": "code",
   "execution_count": null,
   "metadata": {},
   "outputs": [],
   "source": []
  },
  {
   "cell_type": "code",
   "execution_count": null,
   "metadata": {},
   "outputs": [],
   "source": []
  }
 ],
 "metadata": {
  "kernelspec": {
   "display_name": "Python 3",
   "language": "python",
   "name": "python3"
  },
  "language_info": {
   "codemirror_mode": {
    "name": "ipython",
    "version": 3
   },
   "file_extension": ".py",
   "mimetype": "text/x-python",
   "name": "python",
   "nbconvert_exporter": "python",
   "pygments_lexer": "ipython3",
   "version": "3.7.3"
  }
 },
 "nbformat": 4,
 "nbformat_minor": 2
}
